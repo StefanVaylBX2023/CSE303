{
  "nbformat": 4,
  "nbformat_minor": 0,
  "metadata": {
    "colab": {
      "provenance": [],
      "mount_file_id": "1YSuXxmn79wTIReyHuIfGJSQ6nh7Q6o9B",
      "authorship_tag": "ABX9TyN4zt0IxpY21D8AQZvx4F1y",
      "include_colab_link": true
    },
    "kernelspec": {
      "name": "python3",
      "display_name": "Python 3"
    },
    "language_info": {
      "name": "python"
    }
  },
  "cells": [
    {
      "cell_type": "markdown",
      "metadata": {
        "id": "view-in-github",
        "colab_type": "text"
      },
      "source": [
        "<a href=\"https://colab.research.google.com/github/StefanVaylBX2023/CSE303/blob/main/New_version_for_unions.ipynb\" target=\"_parent\"><img src=\"https://colab.research.google.com/assets/colab-badge.svg\" alt=\"Open In Colab\"/></a>"
      ]
    },
    {
      "cell_type": "markdown",
      "source": [
        "##As before:\n",
        "Here nothing changes, same as before:\n",
        "- parsing the input\n",
        "- create the graph and traverse it\n",
        "- add \"free\" observations\n",
        "\n",
        "In the last step mentioned above there's a small change, becasue in the same loop i create a \"metagraph\" that will be exploted later when taking the unions"
      ],
      "metadata": {
        "id": "RiX0hMZm6AMa"
      }
    },
    {
      "cell_type": "code",
      "execution_count": 1,
      "metadata": {
        "id": "m9vctqWA35Sz"
      },
      "outputs": [],
      "source": [
        "from sympy import *\n",
        "import sys\n",
        "import time\n",
        "import itertools as it\n"
      ]
    },
    {
      "cell_type": "code",
      "source": [
        "def read_input(filename):\n",
        "    \n",
        "    with open(filename) as f:\n",
        "        lines = f.readlines()\n",
        "    graph = {}\n",
        "    ind = {}\n",
        "    count = 0\n",
        "    for line in lines:\n",
        "        line = line.split('=')\n",
        "        line[0] = list(exp(line[0]).free_symbols)[0]\n",
        "        if str(line[0]).startswith('d'):\n",
        "            line[0] = str(line[0]).split('d')[1]\n",
        "            line[0] = Symbol(line[0])\n",
        "        graph[line[0]] = list(exp(line[1]).free_symbols)\n",
        "        ind[line[0]] = count\n",
        "        count += 1\n",
        "\n",
        "    return ind, graph\n",
        "\n",
        "def list_of_states(graph): #X = list of states, Y = list of outputs\n",
        "    X = []  \n",
        "    for value in graph.values():\n",
        "        for i in value:\n",
        "            if i not in X:\n",
        "                X.append(i)\n",
        "\n",
        "    Y = []  \n",
        "    for key in graph.keys():\n",
        "        if key not in Y and str(key).startswith('y'):\n",
        "            Y.append(key)\n",
        "    return X, Y\n",
        "\n",
        "\n",
        "def dfs(graph, start, path=[]):\n",
        "    path = path + [start]\n",
        "    for node in graph[start]:\n",
        "        if node not in path:\n",
        "            path = dfs(graph, node, path)\n",
        "    return path\n",
        "\n",
        "# traverse the graph\n",
        "def find_models(graph, Y): \n",
        "    models = {}\n",
        "    for y in Y:\n",
        "        models[y] = dfs(graph, y)\n",
        "    return models\n"
      ],
      "metadata": {
        "id": "Do2PRaGK4Kms"
      },
      "execution_count": 2,
      "outputs": []
    },
    {
      "cell_type": "markdown",
      "source": [
        "##New additions:"
      ],
      "metadata": {
        "id": "mJemKPUKC-P1"
      }
    },
    {
      "cell_type": "markdown",
      "source": [
        "This function here has a little addition that is needed to build an initial version of the metagraph "
      ],
      "metadata": {
        "id": "aiPdLeg3AUoO"
      }
    },
    {
      "cell_type": "code",
      "source": [
        "def find_submodels(graph, models, Y):\n",
        "    metagraph = {}\n",
        "    for y in Y:\n",
        "        metagraph[y] = []\n",
        "        for i in Y:\n",
        "            if i != y:\n",
        "                if set(graph[i]).issubset(set(models[y])):\n",
        "                    if i not in models[y]:\n",
        "                      models[y].append(i)\n",
        "                      #CHANGED HERE  \n",
        "                    metagraph[y].append(i)\n",
        "    res = []\n",
        "    for y in Y:\n",
        "        res.append(models[y])\n",
        "    return res, metagraph"
      ],
      "metadata": {
        "id": "oyZ70-lD4ORA"
      },
      "execution_count": 3,
      "outputs": []
    },
    {
      "cell_type": "markdown",
      "source": [
        "This is the new version of the code that finds the submodels"
      ],
      "metadata": {
        "id": "lGpeczuR3R0f"
      }
    },
    {
      "cell_type": "code",
      "source": [
        "def find_new_models_vers_four(models, metagraph, Y):\n",
        "\n",
        "  #We add the model to the list of submmodels (we say that a model is\n",
        "  #submodel of itself)\n",
        "  for key in list(metagraph):\n",
        "    metagraph[key].append(key)\n",
        "\n",
        "  #We sort the array (even tho probably is not needed now, it was in the\n",
        "  #previous version of the algorithm)\n",
        "  sorted_arr = sorted(list(metagraph.values()), key=len, reverse=True)\n",
        "\n",
        "  #Lists of lists that allows me to see if he method took all the \n",
        "  #unions that it will have to take, not returned, we can delete it.\n",
        "  model_to_add_symbol = []\n",
        "  #The array that will be returned and that will store the new submodels \n",
        "  model_to_add_real = []\n",
        "\n",
        "  for element in sorted_arr:\n",
        "    #we create a list of indices that we need to check (this will avoid\n",
        "    #taking the union of a model with its submodels) \n",
        "    other_indices = list(set(Y)-set(element))\n",
        "\n",
        "    #We iterate through the submodels\n",
        "    for other_element in sorted_arr:\n",
        "      #We check if the submodel under consideration (other_element) is not a \n",
        "      #submodel of the one we are taking the union with (element)\n",
        "      if set(other_element).issubset(set(other_indices)):\n",
        "        #we add the model to the list of unions we need to take\n",
        "        model_to_add_symbol.append([other_element, element])\n",
        "        #we take the unio of the models and we store the result\n",
        "        model_to_add_real.append(list(set(models[get_key(other_element, metagraph)]).union(set(models[get_key(element, metagraph)]))))\n",
        "    #We take off the element we just considered from the array on which we \n",
        "    #iterate, because any significant union with this model have been already taken\n",
        "    #at this step of the algorithm \n",
        "    sorted_arr.remove(element)\n",
        "  #We return the list of models that we need to add\n",
        "  return model_to_add_real\n",
        "\n",
        "#Small fucntions that given a value in a dict and its original dict\n",
        "#returns the corresponding key\n",
        "def get_key(val, my_dict):\n",
        "    for key, value in my_dict.items():\n",
        "        if val == value:\n",
        "            return key\n",
        " \n",
        "    return \"key doesn't exist\"\n"
      ],
      "metadata": {
        "id": "8wKf9W123KTi"
      },
      "execution_count": 18,
      "outputs": []
    },
    {
      "cell_type": "code",
      "source": [
        "graph_4 = read_input(\"/content/drive/MyDrive/Bocconi/Colab Notebooks/CSE303/counterexample_1.txt\")[1]\n",
        "X_4, Y_4 = list_of_states(graph_4)\n",
        "models_4 = find_models(graph_4, Y_4)\n",
        "res_4 = find_submodels(graph_4, models_4, Y_4)[0] #Now i need the first of the two returns\n",
        "metagraph_4 = find_submodels(graph_4, models_4, Y_4)[1] #We take the raw metagraph\n",
        "extra_models = find_new_models_vers_four(models_4, metagraph_4, Y_4) #We find the other models\n",
        "finalres = list(models_4.values()) + extra_models #We create the final list of submodels\n",
        "\n",
        "print(\"The submodels are:\\n\")\n",
        "for element in finalres:\n",
        "  print(f\"{element}\\n\")"
      ],
      "metadata": {
        "colab": {
          "base_uri": "https://localhost:8080/"
        },
        "id": "HYHwwh525A4N",
        "outputId": "08a6ec96-1703-4129-93ff-48219016378b"
      },
      "execution_count": 19,
      "outputs": [
        {
          "output_type": "stream",
          "name": "stdout",
          "text": [
            "The submodels are:\n",
            "\n",
            "[y1, x1, x2]\n",
            "\n",
            "[y2, x3, x2]\n",
            "\n",
            "[y3, x4, x3, x2, y2]\n",
            "\n",
            "[y4, x4, x3, x2, x1, y1, y2, y3]\n",
            "\n",
            "[y5, x5]\n",
            "\n",
            "[y1, x4, y2, x1, x5, y4, x3, y3, x2, y5]\n",
            "\n",
            "[y1, y3, y2, x3, x4, x1, x2]\n",
            "\n",
            "[y1, x3, y2, x1, x2]\n",
            "\n",
            "[y1, x1, x2, x5, y5]\n",
            "\n",
            "[y3, y2, x3, x4, x2, x5, y5]\n",
            "\n",
            "[x3, y2, x2, x5, y5]\n",
            "\n"
          ]
        }
      ]
    }
  ]
}