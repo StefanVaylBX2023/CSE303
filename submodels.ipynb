{
 "cells": [
  {
   "cell_type": "code",
   "execution_count": 646,
   "id": "d674816a",
   "metadata": {},
   "outputs": [],
   "source": [
    "using StructuralIdentifiability \n",
    "using Nemo\n",
    "using IterTools\n"
   ]
  },
  {
   "cell_type": "code",
   "execution_count": 647,
   "id": "c55791a6",
   "metadata": {},
   "outputs": [
    {
     "name": "stdout",
     "output_type": "stream",
     "text": [
      "1\n"
     ]
    },
    {
     "name": "stderr",
     "output_type": "stream",
     "text": [
      "┌ Info: Summary of the model:\n",
      "└ @ StructuralIdentifiability /Users/stefanvayl/.julia/packages/StructuralIdentifiability/egNv7/src/ODE.jl:329\n",
      "┌ Info: State variables: x2, x3, x1\n",
      "└ @ StructuralIdentifiability /Users/stefanvayl/.julia/packages/StructuralIdentifiability/egNv7/src/ODE.jl:330\n",
      "┌ Info: Parameters: a\n",
      "└ @ StructuralIdentifiability /Users/stefanvayl/.julia/packages/StructuralIdentifiability/egNv7/src/ODE.jl:331\n",
      "┌ Info: Inputs: \n",
      "└ @ StructuralIdentifiability /Users/stefanvayl/.julia/packages/StructuralIdentifiability/egNv7/src/ODE.jl:332\n",
      "┌ Info: Outputs: y3, y1, y2\n",
      "└ @ StructuralIdentifiability /Users/stefanvayl/.julia/packages/StructuralIdentifiability/egNv7/src/ODE.jl:333\n",
      "┌ Info: Summary of the model:\n",
      "└ @ StructuralIdentifiability /Users/stefanvayl/.julia/packages/StructuralIdentifiability/egNv7/src/ODE.jl:329\n",
      "┌ Info: State variables: x2, x3, x1\n",
      "└ @ StructuralIdentifiability /Users/stefanvayl/.julia/packages/StructuralIdentifiability/egNv7/src/ODE.jl:330\n",
      "┌ Info: Parameters: a\n",
      "└ @ StructuralIdentifiability /Users/stefanvayl/.julia/packages/StructuralIdentifiability/egNv7/src/ODE.jl:331\n",
      "┌ Info: Inputs: \n",
      "└ @ StructuralIdentifiability /Users/stefanvayl/.julia/packages/StructuralIdentifiability/egNv7/src/ODE.jl:332\n",
      "┌ Info: Outputs: y1, y2\n",
      "└ @ StructuralIdentifiability /Users/stefanvayl/.julia/packages/StructuralIdentifiability/egNv7/src/ODE.jl:333\n",
      "┌ Info: Summary of the model:\n",
      "└ @ StructuralIdentifiability /Users/stefanvayl/.julia/packages/StructuralIdentifiability/egNv7/src/ODE.jl:329\n",
      "┌ Info: State variables: x22, x12, o1, x32, o12, x0, x5, x02, x3, x1, x42, x2, x4, x52\n",
      "└ @ StructuralIdentifiability /Users/stefanvayl/.julia/packages/StructuralIdentifiability/egNv7/src/ODE.jl:330\n",
      "┌ Info: Parameters: r2, r1, d\n",
      "└ @ StructuralIdentifiability /Users/stefanvayl/.julia/packages/StructuralIdentifiability/egNv7/src/ODE.jl:331\n",
      "┌ Info: Inputs: \n",
      "└ @ StructuralIdentifiability /Users/stefanvayl/.julia/packages/StructuralIdentifiability/egNv7/src/ODE.jl:332\n",
      "┌ Info: Outputs: y6, y3, y1, y0, y4, y5, y2\n",
      "└ @ StructuralIdentifiability /Users/stefanvayl/.julia/packages/StructuralIdentifiability/egNv7/src/ODE.jl:333\n",
      "┌ Info: Summary of the model:\n",
      "└ @ StructuralIdentifiability /Users/stefanvayl/.julia/packages/StructuralIdentifiability/egNv7/src/ODE.jl:329\n",
      "┌ Info: State variables: x15, x17, x8, x12, x16, x7, x9, x6, x5, x3, x10, x14, x1, x2, x13, x11, x4\n",
      "└ @ StructuralIdentifiability /Users/stefanvayl/.julia/packages/StructuralIdentifiability/egNv7/src/ODE.jl:330\n",
      "┌ Info: Parameters: \n",
      "└ @ StructuralIdentifiability /Users/stefanvayl/.julia/packages/StructuralIdentifiability/egNv7/src/ODE.jl:331\n",
      "┌ Info: Inputs: \n",
      "└ @ StructuralIdentifiability /Users/stefanvayl/.julia/packages/StructuralIdentifiability/egNv7/src/ODE.jl:332\n",
      "┌ Info: Outputs: y17, y12, y11, y8, y16, y7, y14, y15, y10, y6, y3, y9, y1, y13, y4, y5, y2\n",
      "└ @ StructuralIdentifiability /Users/stefanvayl/.julia/packages/StructuralIdentifiability/egNv7/src/ODE.jl:333\n"
     ]
    }
   ],
   "source": [
    "ode = @ODEmodel(\n",
    "    x1'(t) = x1(t) ,\n",
    "    x2'(t) = x1(t) - a*x2(t) * x2(t) ,\n",
    "    x3'(t) = x3(t) - x1(t) * x2(t) * x3(t) ,\n",
    "    y1(t) = x1(t),\n",
    "    y2(t) = x1(t) + x2(t),\n",
    "    y3(t) = x3(t)\n",
    ")\n",
    "\n",
    "ode2 = @ODEmodel(\n",
    "    x1'(t) = x1(t) +a*x2(t)^2,\n",
    "    x2'(t) = x2(t) - x1(t) * x2(t) ,\n",
    "    x3'(t) = x3(t) + x1(t) + x2(t),\n",
    "    y1(t) = x1(t),\n",
    "    y2(t) = x3(t)\n",
    ")\n",
    "\n",
    "ode3 = @ODEmodel(\n",
    "    o1'(t) = r1*o1(t),\n",
    "    x0'(t) = o1(t) - d*x0(t),\n",
    "    x1'(t) = x0(t) - x1(t),\n",
    "    x2'(t) = x1(t) - x2(t),\n",
    "    x3'(t) = x2(t) - x3(t),\n",
    "    x4'(t) = x3(t) - x4(t),\n",
    "    x5'(t) = x4(t) - x5(t),\n",
    "    o12'(t) = r2*o12(t),\n",
    "    x02'(t) = o12(t) + x2(t) + x3(t) + x22(t) + x32(t) + x02(t),\n",
    "    x12'(t) = x2(t) + x3(t) + x22(t) + x32(t) + x02(t) - x12(t),\n",
    "    x22'(t) = x12(t) - x22(t),\n",
    "    x32'(t) = x22(t) - x32(t),\n",
    "    x42'(t) = x32(t) - x42(t),\n",
    "    x52'(t) = x42(t) - x52(t),\n",
    "    y0(t) = x0(t) + x02(t),\n",
    "    y1(t) = x1(t) + x12(t),\n",
    "    y2(t) = x2(t) + x22(t),\n",
    "    y3(t) = x3(t) + x32(t),\n",
    "    y4(t) = x4(t) + x42(t) + x5(t) + x52(t),\n",
    "    y5(t) = x1(t) + x2(t) + x3(t) + x4(t) + x12(t) + x22(t) + x32(t) + x42(t) ,\n",
    "    y6(t) = x5(t) + x52(t) \n",
    ")\n",
    "\n",
    "ode4 = @ODEmodel(\n",
    "    x1'(t) = x1(t),\n",
    "    x2'(t) = x2(t),\n",
    "    x3'(t) = x3(t),\n",
    "    x4'(t) = x4(t),\n",
    "    x5'(t) = x5(t),\n",
    "    x6'(t) = x6(t),\n",
    "    x7'(t) = x7(t),\n",
    "    x8'(t) = x8(t),\n",
    "    x9'(t) = x9(t),\n",
    "    x10'(t) = x10(t),\n",
    "    x11'(t) = x11(t),\n",
    "    x12'(t) = x12(t),\n",
    "    x13'(t) = x13(t),\n",
    "    x14'(t) = x14(t),\n",
    "    x15'(t) = x15(t),\n",
    "    x16'(t) = x16(t),\n",
    "    x17'(t) = x17(t),\n",
    "    y1(t) = x1(t),\n",
    "    y2(t) = x2(t),\n",
    "    y3(t) = x3(t),\n",
    "    y4(t) = x4(t),\n",
    "    y5(t) = x5(t),\n",
    "    y6(t) = x6(t),\n",
    "    y7(t) = x7(t),\n",
    "    y8(t) = x8(t),\n",
    "    y9(t) = x9(t),\n",
    "    y10(t) = x10(t),\n",
    "    y11(t) = x11(t),\n",
    "    y12(t) = x12(t),\n",
    "    y13(t) = x13(t),\n",
    "    y14(t) = x14(t),\n",
    "    y15(t) = x15(t),\n",
    "    y16(t) = x16(t),\n",
    "    y17(t) = x17(t)\n",
    "    \n",
    ")\n",
    "\n",
    "println(1)"
   ]
  },
  {
   "cell_type": "code",
   "execution_count": 648,
   "id": "30e8d473",
   "metadata": {},
   "outputs": [
    {
     "data": {
      "text/plain": [
       "construct_graph (generic function with 1 method)"
      ]
     },
     "execution_count": 648,
     "metadata": {},
     "output_type": "execute_result"
    }
   ],
   "source": [
    "\n",
    "function construct_graph(ode) # construct a graph from given system of equations\n",
    "    graph = Dict()\n",
    "    for (x,f) in ode.x_equations\n",
    "        graph[x] = vars(f)\n",
    "    end\n",
    "    for (y,f) in ode.y_equations\n",
    "        graph[y] = vars(f)\n",
    "    end\n",
    "    return graph\n",
    "end\n",
    "\n",
    "\n"
   ]
  },
  {
   "cell_type": "code",
   "execution_count": 649,
   "id": "dc409403",
   "metadata": {},
   "outputs": [
    {
     "data": {
      "text/plain": [
       "dfs (generic function with 1 method)"
      ]
     },
     "execution_count": 649,
     "metadata": {},
     "output_type": "execute_result"
    }
   ],
   "source": [
    "\n",
    "function dfs(graph, start, visited) # dfs algo for traversing obtained graph\n",
    "    push!(visited, start)\n",
    "    if start in keys(graph)\n",
    "        for node in graph[start]\n",
    "            if !(node in visited)\n",
    "                dfs(graph, node, visited)\n",
    "            end \n",
    "        end\n",
    "    end\n",
    "    return visited\n",
    "end\n",
    "\n"
   ]
  },
  {
   "cell_type": "code",
   "execution_count": 650,
   "id": "f44c24c7",
   "metadata": {},
   "outputs": [
    {
     "data": {
      "text/plain": [
       "traverse_outputs (generic function with 1 method)"
      ]
     },
     "execution_count": 650,
     "metadata": {},
     "output_type": "execute_result"
    }
   ],
   "source": [
    "\n",
    "\n",
    "function traverse_outputs(graph, y)\n",
    "    raw_models = Dict()\n",
    "    for state in y\n",
    "        model = dfs(graph, state, [])\n",
    "        raw_models[state] = model\n",
    "    end\n",
    "    return raw_models\n",
    "end\n"
   ]
  },
  {
   "cell_type": "code",
   "execution_count": 651,
   "id": "539dc377",
   "metadata": {},
   "outputs": [
    {
     "data": {
      "text/plain": [
       "find_raw_submodels (generic function with 1 method)"
      ]
     },
     "execution_count": 651,
     "metadata": {},
     "output_type": "execute_result"
    }
   ],
   "source": [
    "\n",
    "function find_raw_submodels(raw_models,Y, graph)\n",
    "    result = []\n",
    "    for y1 in Y\n",
    "        for y2 in Y\n",
    "            if y1 != y2\n",
    "                if issubset(graph[y2], raw_models[y1]) && !(y2 in raw_models[y1])\n",
    "                   push!(raw_models[y1], y2)\n",
    "                end\n",
    "            end\n",
    "        end\n",
    "    end\n",
    "    for y in Y\n",
    "        push!(result, raw_models[y])\n",
    "    end\n",
    "    return result\n",
    "end\n"
   ]
  },
  {
   "cell_type": "code",
   "execution_count": 652,
   "id": "df4da073",
   "metadata": {},
   "outputs": [
    {
     "data": {
      "text/plain": [
       "sort_all (generic function with 1 method)"
      ]
     },
     "execution_count": 652,
     "metadata": {},
     "output_type": "execute_result"
    }
   ],
   "source": [
    "function sort_all(submodels)\n",
    "    sorted = []\n",
    "    for submodel in submodels\n",
    "        sub = sort(submodel, by = string)\n",
    "        push!(sorted, sub)\n",
    "    end\n",
    "    return sorted\n",
    "end"
   ]
  },
  {
   "cell_type": "code",
   "execution_count": 653,
   "id": "3f94d30d",
   "metadata": {},
   "outputs": [
    {
     "data": {
      "text/plain": [
       "search_add_unions (generic function with 1 method)"
      ]
     },
     "execution_count": 653,
     "metadata": {},
     "output_type": "execute_result"
    }
   ],
   "source": [
    "function search_add_unions(submodels)\n",
    "    result = [[]]\n",
    "    for model in submodels\n",
    "        for index in range(1,length(result))\n",
    "            candidate_model = union(result[index], model)\n",
    "            push!(result, candidate_model)\n",
    "        end\n",
    "    end\n",
    "    return result\n",
    "end\n",
    "    "
   ]
  },
  {
   "cell_type": "code",
   "execution_count": 654,
   "id": "ad738d1f",
   "metadata": {},
   "outputs": [
    {
     "data": {
      "text/plain": [
       "remove_empty (generic function with 1 method)"
      ]
     },
     "execution_count": 654,
     "metadata": {},
     "output_type": "execute_result"
    }
   ],
   "source": [
    "function remove_empty(submodels)\n",
    "    if [] in submodels\n",
    "        deleteat!(submodels, findfirst(x -> x == [], submodels))\n",
    "    end\n",
    "    return submodels\n",
    "end\n",
    "    "
   ]
  },
  {
   "cell_type": "code",
   "execution_count": null,
   "id": "21559ee7",
   "metadata": {},
   "outputs": [],
   "source": []
  },
  {
   "cell_type": "code",
   "execution_count": 655,
   "id": "03d47533",
   "metadata": {},
   "outputs": [],
   "source": [
    "\n",
    "using StructuralIdentifiability: parent_ring_change"
   ]
  },
  {
   "cell_type": "code",
   "execution_count": 656,
   "id": "c8b10d32",
   "metadata": {},
   "outputs": [
    {
     "data": {
      "text/plain": [
       "submodel2ode (generic function with 1 method)"
      ]
     },
     "execution_count": 656,
     "metadata": {},
     "output_type": "execute_result"
    }
   ],
   "source": [
    "function ode_aux(ode, submodel)\n",
    "    #print(ode)\n",
    "    new_y = copy(ode.y_equations)\n",
    "    new_x = copy(ode.x_equations)\n",
    "    for (x,f) in ode.x_equations\n",
    "        if !(issubset(vars(x),submodel) && issubset(vars(f),submodel))\n",
    "            delete!(new_x, x)\n",
    "        end\n",
    "    end\n",
    "    \n",
    "    for (y,f) in ode.y_equations\n",
    "        if !(issubset(vars(y),submodel) && issubset(vars(f),submodel))\n",
    "            delete!(new_y, y)\n",
    "        end\n",
    "    end\n",
    "    sub = map(x -> \"$x\", submodel)\n",
    "    S, _ = PolynomialRing(QQ, sub)\n",
    "    fin_x = Dict(parent_ring_change(x, S) => parent_ring_change(f, S) for (x,f) in new_x)\n",
    "    fin_y = Dict(parent_ring_change(y, S) => parent_ring_change(f, S) for (y,f) in new_y)\n",
    "\n",
    "\n",
    "    return ODE{fmpq_mpoly}(fin_x, fin_y, Array{fmpq_mpoly, 1}())\n",
    "end\n",
    "\n",
    "\n",
    "\n",
    "function submodel2ode(ode2, submodels)\n",
    "    result = Array{ODE{fmpq_mpoly}, 1}()\n",
    "    for submodel in submodels\n",
    "        push!(result, ode_aux(ode2, submodel))\n",
    "    end\n",
    "    return result\n",
    "end\n",
    "\n",
    "\n",
    "\n"
   ]
  },
  {
   "cell_type": "code",
   "execution_count": 657,
   "id": "c282a7ca",
   "metadata": {},
   "outputs": [
    {
     "data": {
      "text/plain": [
       "\"for (x,f) in sub3[1].x_equations\\n    println(parent(x))\\n    println(parent(f))\\nend\""
      ]
     },
     "execution_count": 657,
     "metadata": {},
     "output_type": "execute_result"
    }
   ],
   "source": [
    "function find_submodels(ode)\n",
    "    graph = construct_graph(ode)\n",
    "    y = collect(keys(ode.y_equations))\n",
    "    raw_models = traverse_outputs(graph, y)\n",
    "    submodels = find_raw_submodels(raw_models, y, graph)\n",
    "    unions = (search_add_unions(submodels))\n",
    "    result = remove_empty(union(sort_all(unions)))\n",
    "    back2ode = submodel2ode(ode, result)\n",
    "    return back2ode\n",
    "end\n",
    "\n",
    "sub = find_submodels(ode)\n",
    "sub2 = find_submodels(ode2)\n",
    "sub3 = find_submodels(ode3)\n",
    "\n",
    "\n",
    "\"for (x,f) in sub3[1].x_equations\n",
    "    println(parent(x))\n",
    "    println(parent(f))\n",
    "end\"\n",
    "#println(sub3[2])\n",
    "#println(sub3)\n"
   ]
  },
  {
   "cell_type": "code",
   "execution_count": 660,
   "id": "f7ed709d",
   "metadata": {},
   "outputs": [
    {
     "ename": "LoadError",
     "evalue": "LoadError: UndefVarError: @x_str not defined\nin expression starting at In[660]:20",
     "output_type": "error",
     "traceback": [
      "LoadError: UndefVarError: @x_str not defined\nin expression starting at In[660]:20",
      "",
      "Stacktrace:",
      " [1] top-level scope",
      "   @ :0",
      " [2] eval",
      "   @ ./boot.jl:368 [inlined]",
      " [3] include_string(mapexpr::typeof(REPL.softscope), mod::Module, code::String, filename::String)",
      "   @ Base ./loading.jl:1428"
     ]
    }
   ],
   "source": [
    "\"\n",
    "\n",
    "function  model2ode(ode, submodels)\n",
    "    result = []\n",
    "    for submodel in submodels\n",
    "        new_x = ode.x_equations\n",
    "        new_y = ode.y_equations\n",
    "        \n",
    "        for (x,f) in ode.x_equations\n",
    "            if !(issubset(vars(x),submodel) && issubset(vars(f),submodel))\n",
    "                delete!(new_x, x)\n",
    "            end\n",
    "        end\n",
    "        \n",
    "        for (y,f) in ode.y_equations\n",
    "            if !(issubset(vars(y),submodel) && issubset(vars(f),submodel))\n",
    "                delete!(new_y, y)\n",
    "            end\n",
    "        end\n",
    "        sub = map(x -> \"$x\", submodel)\n",
    "        S, _ = PolynomialRing(QQ, sub)\n",
    "        println(new_x)\n",
    "        println(new_y)\n",
    "        fin_x = Dict(parent_ring_change(x, S) => parent_ring_change(f, S) for (x,f) in new_x)\n",
    "        fin_y = Dict(parent_ring_change(y, S) => parent_ring_change(f, S) for (y,f) in new_y)\n",
    "\n",
    "        println(fin_x)\n",
    "        println(fin_y)\n",
    "        res = ODE{fmpq_mpoly}(fin_x, fin_y, Array{fmpq_mpoly, 1}())\n",
    "        \n",
    "        push!(result,res)\n",
    "\n",
    "    end\n",
    "    return result\n",
    "end\n",
    "\n",
    "\n",
    "println(find_submodels(ode3))\n",
    "\n",
    "new_ode = model2ode(ode3, find_submodels(ode3))\n",
    "\"\n",
    "\n"
   ]
  },
  {
   "cell_type": "code",
   "execution_count": null,
   "id": "f46918e1",
   "metadata": {},
   "outputs": [],
   "source": []
  },
  {
   "cell_type": "code",
   "execution_count": null,
   "id": "4c15b648",
   "metadata": {},
   "outputs": [],
   "source": []
  }
 ],
 "metadata": {
  "kernelspec": {
   "display_name": "Julia 1.8.2",
   "language": "julia",
   "name": "julia-1.8"
  },
  "language_info": {
   "file_extension": ".jl",
   "mimetype": "application/julia",
   "name": "julia",
   "version": "1.8.2"
  },
  "vscode": {
   "interpreter": {
    "hash": "e52d8eff0fa1ae6ac7e3dc17c2d12b7827902139a408e360ebcd41464f1e620d"
   }
  }
 },
 "nbformat": 4,
 "nbformat_minor": 5
}
