{
 "cells": [
  {
   "cell_type": "code",
   "execution_count": 387,
   "id": "d674816a",
   "metadata": {},
   "outputs": [],
   "source": [
    "using StructuralIdentifiability \n",
    "using Nemo\n",
    "using IterTools\n"
   ]
  },
  {
   "cell_type": "code",
   "execution_count": 388,
   "id": "c55791a6",
   "metadata": {},
   "outputs": [
    {
     "name": "stderr",
     "output_type": "stream",
     "text": [
      "┌ Info: Summary of the model:\n",
      "└ @ StructuralIdentifiability /Users/stefanvayl/.julia/packages/StructuralIdentifiability/egNv7/src/ODE.jl:329\n",
      "┌ Info: State variables: x2, x3, x1\n",
      "└ @ StructuralIdentifiability /Users/stefanvayl/.julia/packages/StructuralIdentifiability/egNv7/src/ODE.jl:330\n",
      "┌ Info: Parameters: a\n",
      "└ @ StructuralIdentifiability /Users/stefanvayl/.julia/packages/StructuralIdentifiability/egNv7/src/ODE.jl:331\n",
      "┌ Info: Inputs: \n",
      "└ @ StructuralIdentifiability /Users/stefanvayl/.julia/packages/StructuralIdentifiability/egNv7/src/ODE.jl:332\n",
      "┌ Info: Outputs: y3, y1, y2\n",
      "└ @ StructuralIdentifiability /Users/stefanvayl/.julia/packages/StructuralIdentifiability/egNv7/src/ODE.jl:333\n",
      "┌ Info: Summary of the model:\n",
      "└ @ StructuralIdentifiability /Users/stefanvayl/.julia/packages/StructuralIdentifiability/egNv7/src/ODE.jl:329\n",
      "┌ Info: State variables: x2, x3, x1\n",
      "└ @ StructuralIdentifiability /Users/stefanvayl/.julia/packages/StructuralIdentifiability/egNv7/src/ODE.jl:330\n",
      "┌ Info: Parameters: a\n",
      "└ @ StructuralIdentifiability /Users/stefanvayl/.julia/packages/StructuralIdentifiability/egNv7/src/ODE.jl:331\n",
      "┌ Info: Inputs: \n",
      "└ @ StructuralIdentifiability /Users/stefanvayl/.julia/packages/StructuralIdentifiability/egNv7/src/ODE.jl:332\n",
      "┌ Info: Outputs: y1, y2\n",
      "└ @ StructuralIdentifiability /Users/stefanvayl/.julia/packages/StructuralIdentifiability/egNv7/src/ODE.jl:333\n",
      "┌ Info: Summary of the model:\n",
      "└ @ StructuralIdentifiability /Users/stefanvayl/.julia/packages/StructuralIdentifiability/egNv7/src/ODE.jl:329\n",
      "┌ Info: State variables: x22, x12, o1, x32, o12, x0, x5, x02, x3, x1, x42, x2, x4, x52\n",
      "└ @ StructuralIdentifiability /Users/stefanvayl/.julia/packages/StructuralIdentifiability/egNv7/src/ODE.jl:330\n",
      "┌ Info: Parameters: r2, r1, d\n",
      "└ @ StructuralIdentifiability /Users/stefanvayl/.julia/packages/StructuralIdentifiability/egNv7/src/ODE.jl:331\n",
      "┌ Info: Inputs: \n",
      "└ @ StructuralIdentifiability /Users/stefanvayl/.julia/packages/StructuralIdentifiability/egNv7/src/ODE.jl:332\n",
      "┌ Info: Outputs: y6, y3, y1, y0, y4, y5, y2\n",
      "└ @ StructuralIdentifiability /Users/stefanvayl/.julia/packages/StructuralIdentifiability/egNv7/src/ODE.jl:333\n",
      "┌ Info: Summary of the model:\n",
      "└ @ StructuralIdentifiability /Users/stefanvayl/.julia/packages/StructuralIdentifiability/egNv7/src/ODE.jl:329\n",
      "┌ Info: State variables: x15, x17, x8, x12, x16, x7, x9, x6, x5, x3, x10, x14, x1, x2, x13, x11, x4\n",
      "└ @ StructuralIdentifiability /Users/stefanvayl/.julia/packages/StructuralIdentifiability/egNv7/src/ODE.jl:330\n",
      "┌ Info: Parameters: \n",
      "└ @ StructuralIdentifiability /Users/stefanvayl/.julia/packages/StructuralIdentifiability/egNv7/src/ODE.jl:331\n",
      "┌ Info: Inputs: \n",
      "└ @ StructuralIdentifiability /Users/stefanvayl/.julia/packages/StructuralIdentifiability/egNv7/src/ODE.jl:332\n",
      "┌ Info: Outputs: y17, y12, y11, y8, y16, y7, y14, y15, y10, y6, y3, y9, y1, y13, y4, y5, y2\n",
      "└ @ StructuralIdentifiability /Users/stefanvayl/.julia/packages/StructuralIdentifiability/egNv7/src/ODE.jl:333\n"
     ]
    },
    {
     "data": {
      "text/plain": [
       "x15'(t) = x15(t)\n",
       "x3'(t) = x3(t)\n",
       "x13'(t) = x13(t)\n",
       "x14'(t) = x14(t)\n",
       "x7'(t) = x7(t)\n",
       "x12'(t) = x12(t)\n",
       "x16'(t) = x16(t)\n",
       "x11'(t) = x11(t)\n",
       "x8'(t) = x8(t)\n",
       "x10'(t) = x10(t)\n",
       "x9'(t) = x9(t)\n",
       "x6'(t) = x6(t)\n",
       "x4'(t) = x4(t)\n",
       "x1'(t) = x1(t)\n",
       "x5'(t) = x5(t)\n",
       "x2'(t) = x2(t)\n",
       "x17'(t) = x17(t)\n",
       "y8(t) = x8(t)\n",
       "y10(t) = x10(t)\n",
       "y9(t) = x9(t)\n",
       "y12(t) = x12(t)\n",
       "y5(t) = x5(t)\n",
       "y11(t) = x11(t)\n",
       "y13(t) = x13(t)\n",
       "y4(t) = x4(t)\n",
       "y6(t) = x6(t)\n",
       "y15(t) = x15(t)\n",
       "y17(t) = x17(t)\n",
       "y7(t) = x7(t)\n",
       "y14(t) = x14(t)\n",
       "y2(t) = x2(t)\n",
       "y16(t) = x16(t)\n",
       "y3(t) = x3(t)\n",
       "y1(t) = x1(t)\n"
      ]
     },
     "execution_count": 388,
     "metadata": {},
     "output_type": "execute_result"
    }
   ],
   "source": [
    "ode = @ODEmodel(\n",
    "    x1'(t) = x1(t) ,\n",
    "    x2'(t) = x1(t) - a*x2(t) * x2(t) ,\n",
    "    x3'(t) = x3(t) - x1(t) * x2(t) * x3(t) ,\n",
    "    y1(t) = x1(t),\n",
    "    y2(t) = x1(t) + x2(t),\n",
    "    y3(t) = x3(t)\n",
    ")\n",
    "\n",
    "ode2 = @ODEmodel(\n",
    "    x1'(t) = x1(t) +a*x2(t)^2,\n",
    "    x2'(t) = x2(t) - x1(t) * x2(t) ,\n",
    "    x3'(t) = x3(t) + x1(t) + x2(t),\n",
    "    y1(t) = x1(t),\n",
    "    y2(t) = x3(t)\n",
    ")\n",
    "\n",
    "ode3 = @ODEmodel(\n",
    "    o1'(t) = r1*o1(t),\n",
    "    x0'(t) = o1(t) - d*x0(t),\n",
    "    x1'(t) = x0(t) - x1(t),\n",
    "    x2'(t) = x1(t) - x2(t),\n",
    "    x3'(t) = x2(t) - x3(t),\n",
    "    x4'(t) = x3(t) - x4(t),\n",
    "    x5'(t) = x4(t) - x5(t),\n",
    "    o12'(t) = r2*o12(t),\n",
    "    x02'(t) = o12(t) + x2(t) + x3(t) + x22(t) + x32(t) + x02(t),\n",
    "    x12'(t) = x2(t) + x3(t) + x22(t) + x32(t) + x02(t) - x12(t),\n",
    "    x22'(t) = x12(t) - x22(t),\n",
    "    x32'(t) = x22(t) - x32(t),\n",
    "    x42'(t) = x32(t) - x42(t),\n",
    "    x52'(t) = x42(t) - x52(t),\n",
    "    y0(t) = x0(t) + x02(t),\n",
    "    y1(t) = x1(t) + x12(t),\n",
    "    y2(t) = x2(t) + x22(t),\n",
    "    y3(t) = x3(t) + x32(t),\n",
    "    y4(t) = x4(t) + x42(t) + x5(t) + x52(t),\n",
    "    y5(t) = x1(t) + x2(t) + x3(t) + x4(t) + x12(t) + x22(t) + x32(t) + x42(t) ,\n",
    "    y6(t) = x5(t) + x52(t) \n",
    ")\n",
    "\n",
    "ode4 = @ODEmodel(\n",
    "    x1'(t) = x1(t),\n",
    "    x2'(t) = x2(t),\n",
    "    x3'(t) = x3(t),\n",
    "    x4'(t) = x4(t),\n",
    "    x5'(t) = x5(t),\n",
    "    x6'(t) = x6(t),\n",
    "    x7'(t) = x7(t),\n",
    "    x8'(t) = x8(t),\n",
    "    x9'(t) = x9(t),\n",
    "    x10'(t) = x10(t),\n",
    "    x11'(t) = x11(t),\n",
    "    x12'(t) = x12(t),\n",
    "    x13'(t) = x13(t),\n",
    "    x14'(t) = x14(t),\n",
    "    x15'(t) = x15(t),\n",
    "    x16'(t) = x16(t),\n",
    "    x17'(t) = x17(t),\n",
    "    y1(t) = x1(t),\n",
    "    y2(t) = x2(t),\n",
    "    y3(t) = x3(t),\n",
    "    y4(t) = x4(t),\n",
    "    y5(t) = x5(t),\n",
    "    y6(t) = x6(t),\n",
    "    y7(t) = x7(t),\n",
    "    y8(t) = x8(t),\n",
    "    y9(t) = x9(t),\n",
    "    y10(t) = x10(t),\n",
    "    y11(t) = x11(t),\n",
    "    y12(t) = x12(t),\n",
    "    y13(t) = x13(t),\n",
    "    y14(t) = x14(t),\n",
    "    y15(t) = x15(t),\n",
    "    y16(t) = x16(t),\n",
    "    y17(t) = x17(t)\n",
    "    \n",
    ")"
   ]
  },
  {
   "cell_type": "code",
   "execution_count": 389,
   "id": "fedcdf7a",
   "metadata": {},
   "outputs": [
    {
     "data": {
      "text/plain": [
       "x_states (generic function with 1 method)"
      ]
     },
     "execution_count": 389,
     "metadata": {},
     "output_type": "execute_result"
    }
   ],
   "source": [
    "\n",
    "function y_states(ode) # get all Y states\n",
    "    y_states = []\n",
    "    for (y,f) in ode.y_equations\n",
    "        push!(y_states, y)\n",
    "    end\n",
    "    return y_states\n",
    "end\n",
    "\n",
    "function x_states(ode) # get all X states\n",
    "    x_states = []\n",
    "    for (x,f) in ode.x_equations\n",
    "        push!(x_states, x)\n",
    "    end\n",
    "    return x_states\n",
    "    \n",
    "end\n"
   ]
  },
  {
   "cell_type": "code",
   "execution_count": 390,
   "id": "30e8d473",
   "metadata": {},
   "outputs": [
    {
     "data": {
      "text/plain": [
       "Dict{Any, Any} with 21 entries:\n",
       "  x5  => fmpq_mpoly[x5, x4]\n",
       "  o12 => fmpq_mpoly[r2, o12]\n",
       "  x1  => fmpq_mpoly[x0, x1]\n",
       "  x52 => fmpq_mpoly[x42, x52]\n",
       "  x02 => fmpq_mpoly[x22, x32, o12, x02, x3, x2]\n",
       "  y1  => fmpq_mpoly[x12, x1]\n",
       "  x42 => fmpq_mpoly[x32, x42]\n",
       "  x0  => fmpq_mpoly[o1, x0, d]\n",
       "  y2  => fmpq_mpoly[x22, x2]\n",
       "  x4  => fmpq_mpoly[x3, x4]\n",
       "  y3  => fmpq_mpoly[x32, x3]\n",
       "  x32 => fmpq_mpoly[x22, x32]\n",
       "  y4  => fmpq_mpoly[x5, x42, x4, x52]\n",
       "  x2  => fmpq_mpoly[x1, x2]\n",
       "  y0  => fmpq_mpoly[x0, x02]\n",
       "  x3  => fmpq_mpoly[x3, x2]\n",
       "  x12 => fmpq_mpoly[x22, x12, x32, x02, x3, x2]\n",
       "  y6  => fmpq_mpoly[x5, x52]\n",
       "  x22 => fmpq_mpoly[x22, x12]\n",
       "  o1  => fmpq_mpoly[r1, o1]\n",
       "  y5  => fmpq_mpoly[x22, x12, x32, x3, x1, x42, x2, x4]"
      ]
     },
     "execution_count": 390,
     "metadata": {},
     "output_type": "execute_result"
    }
   ],
   "source": [
    "\n",
    "function construct_graph(ode) # construct a graph from given system of equations\n",
    "    graph = Dict()\n",
    "    eqs = []\n",
    "    for (x,f) in ode.x_equations\n",
    "        graph[x] = f\n",
    "    end\n",
    "    for (y,f) in ode.y_equations\n",
    "        graph[y] = f\n",
    "    end\n",
    "\n",
    "    for (k,v) in graph\n",
    "        graph[k] = vars(v)\n",
    "        \n",
    "    end\n",
    "    return graph\n",
    "end\n",
    "\n",
    "graph2 = construct_graph(ode3)\n",
    "\n"
   ]
  },
  {
   "cell_type": "code",
   "execution_count": 391,
   "id": "dc409403",
   "metadata": {},
   "outputs": [
    {
     "data": {
      "text/plain": [
       "dfs (generic function with 1 method)"
      ]
     },
     "execution_count": 391,
     "metadata": {},
     "output_type": "execute_result"
    }
   ],
   "source": [
    "\n",
    "function dfs(graph, start, visited) # dfs algo for traversing obtained graph\n",
    "  \n",
    "    push!(visited, start)\n",
    "    if start in keys(graph)\n",
    "        for node in graph[start]\n",
    "            if !(node in visited)\n",
    "            \n",
    "                dfs(graph, node, visited)\n",
    "            end\n",
    "            \n",
    "        end\n",
    "    end\n",
    "    return visited\n",
    "\n",
    "end\n",
    "\n"
   ]
  },
  {
   "cell_type": "code",
   "execution_count": 392,
   "id": "f44c24c7",
   "metadata": {},
   "outputs": [
    {
     "data": {
      "text/plain": [
       "traverse_outputs (generic function with 2 methods)"
      ]
     },
     "execution_count": 392,
     "metadata": {},
     "output_type": "execute_result"
    }
   ],
   "source": [
    "\n",
    "\n",
    "function traverse_outputs(graph, y)\n",
    "    raw_models = Dict()\n",
    "    for state in y\n",
    "        model = dfs(graph, state, [])\n",
    "        raw_models[state] = model\n",
    "    end\n",
    "    return raw_models\n",
    "end\n"
   ]
  },
  {
   "cell_type": "code",
   "execution_count": 393,
   "id": "539dc377",
   "metadata": {},
   "outputs": [
    {
     "data": {
      "text/plain": [
       "find_raw_submodels (generic function with 1 method)"
      ]
     },
     "execution_count": 393,
     "metadata": {},
     "output_type": "execute_result"
    }
   ],
   "source": [
    "\n",
    "function find_raw_submodels(raw_models,y, graph)\n",
    "    submodels = []\n",
    "    for y1 in y\n",
    "        for y2 in y\n",
    "            if y1 != y2\n",
    "                if issubset(graph[y2], raw_models[y1]) && !(y2 in raw_models[y1])\n",
    "                   push!(raw_models[y1], y2)\n",
    "                    \n",
    "                end\n",
    "            end\n",
    "        end\n",
    "    end\n",
    "    res = []\n",
    "    for y3 in y\n",
    "        push!(res, raw_models[y3])\n",
    "    end\n",
    "    return res\n",
    "end\n"
   ]
  },
  {
   "cell_type": "code",
   "execution_count": 394,
   "id": "df4da073",
   "metadata": {},
   "outputs": [
    {
     "data": {
      "text/plain": [
       "sort_all (generic function with 1 method)"
      ]
     },
     "execution_count": 394,
     "metadata": {},
     "output_type": "execute_result"
    }
   ],
   "source": [
    "function sort_all(submodels)\n",
    "    new = []\n",
    "    for submodel in submodels\n",
    "        sub = sort(submodel, by = string)\n",
    "        push!(new, sub)\n",
    "    end\n",
    "    return new\n",
    "end"
   ]
  },
  {
   "cell_type": "code",
   "execution_count": 395,
   "id": "3f94d30d",
   "metadata": {},
   "outputs": [
    {
     "data": {
      "text/plain": [
       "search_add_unions (generic function with 1 method)"
      ]
     },
     "execution_count": 395,
     "metadata": {},
     "output_type": "execute_result"
    }
   ],
   "source": [
    "function search_add_unions(submodels)\n",
    "    res = [[]]\n",
    "    for model in submodels\n",
    "       # println(length(res))\n",
    "        for index in range(1,length(res))\n",
    "            candidate_model = union(res[index], model)\n",
    "           # println(candidate_model)\n",
    "            push!(res, candidate_model)\n",
    "        end\n",
    "    end\n",
    "    return res\n",
    "end\n",
    "    "
   ]
  },
  {
   "cell_type": "code",
   "execution_count": 397,
   "id": "21559ee7",
   "metadata": {},
   "outputs": [
    {
     "name": "stdout",
     "output_type": "stream",
     "text": [
      "131072\n"
     ]
    }
   ],
   "source": [
    "function submodels(ode)\n",
    "    graph = construct_graph(ode)\n",
    "    y = y_states(ode)\n",
    "    raw = traverse_outputs(graph, y)\n",
    "    submodels = find_raw_submodels(raw, y, graph)\n",
    "    submodels = union(sort_all(submodels))\n",
    "    new = (search_add_unions(submodels))\n",
    "    new = union(sort_all(new))\n",
    "    count = 0\n",
    "    for sub in new\n",
    "        \n",
    "        count +=1\n",
    "    #return new\n",
    "    end\n",
    "    println(count)\n",
    "end\n",
    "\n",
    "submodels(ode4)"
   ]
  },
  {
   "cell_type": "code",
   "execution_count": null,
   "id": "3f6049e2",
   "metadata": {},
   "outputs": [
    {
     "name": "stdout",
     "output_type": "stream",
     "text": [
      "[[[1, 2, 3], [1]], [[1, 2, 3], [2]], [[1, 2, 3], [3]], [[1, 2, 3], [5]], [[1, 2, 3], [6, 4]], [[1], [2]], [[1], [3]], [[1], [5]], [[1], [6, 4]], [[2], [3]], [[2], [5]], [[2], [6, 4]], [[3], [5]], [[3], [6, 4]], [[5], [6, 4]]]"
     ]
    }
   ],
   "source": [
    "x = [[1,2,3],[1],[2],[3],[5],[6,4]]\n",
    "\n",
    "print(collect((subsets(x,2))))\n"
   ]
  },
  {
   "cell_type": "code",
   "execution_count": null,
   "id": "f46918e1",
   "metadata": {},
   "outputs": [
    {
     "ename": "LoadError",
     "evalue": "type fmpq_mpoly has no field vars",
     "output_type": "error",
     "traceback": [
      "type fmpq_mpoly has no field vars",
      "",
      "Stacktrace:",
      " [1] getproperty",
      "   @ ./Base.jl:38 [inlined]",
      " [2] back_to_ode(ode::ODE{fmpq_mpoly})",
      "   @ Main ./In[385]:6",
      " [3] top-level scope",
      "   @ In[385]:12",
      " [4] eval",
      "   @ ./boot.jl:368 [inlined]",
      " [5] include_string(mapexpr::typeof(REPL.softscope), mod::Module, code::String, filename::String)",
      "   @ Base ./loading.jl:1428"
     ]
    }
   ],
   "source": [
    "function back_to_ode(ode)\n",
    "    #for submodel in submodels\n",
    "        for (d,x) in ode.x_equations\n",
    "            #if issubset(equation.va)\n",
    "            \n",
    "            println(d.vars())\n",
    "            println(x.vars())\n",
    "        end\n",
    "    #end\n",
    "end\n",
    "\n",
    "back_to_ode(ode2)"
   ]
  }
 ],
 "metadata": {
  "kernelspec": {
   "display_name": "Julia 1.8.2",
   "language": "julia",
   "name": "julia-1.8"
  },
  "language_info": {
   "file_extension": ".jl",
   "mimetype": "application/julia",
   "name": "julia",
   "version": "1.8.2"
  },
  "vscode": {
   "interpreter": {
    "hash": "e52d8eff0fa1ae6ac7e3dc17c2d12b7827902139a408e360ebcd41464f1e620d"
   }
  }
 },
 "nbformat": 4,
 "nbformat_minor": 5
}
