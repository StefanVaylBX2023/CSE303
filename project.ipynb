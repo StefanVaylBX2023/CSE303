{
 "cells": [
  {
   "cell_type": "code",
   "execution_count": 43,
   "id": "d674816a",
   "metadata": {},
   "outputs": [],
   "source": [
    "using StructuralIdentifiability \n",
    "using Nemo"
   ]
  },
  {
   "cell_type": "code",
   "execution_count": 44,
   "id": "c55791a6",
   "metadata": {},
   "outputs": [
    {
     "name": "stderr",
     "output_type": "stream",
     "text": [
      "┌ Info: Summary of the model:\n",
      "└ @ StructuralIdentifiability /Users/stefanvayl/.julia/packages/StructuralIdentifiability/egNv7/src/ODE.jl:329\n",
      "┌ Info: State variables: x2, x3, x1\n",
      "└ @ StructuralIdentifiability /Users/stefanvayl/.julia/packages/StructuralIdentifiability/egNv7/src/ODE.jl:330\n",
      "┌ Info: Parameters: \n",
      "└ @ StructuralIdentifiability /Users/stefanvayl/.julia/packages/StructuralIdentifiability/egNv7/src/ODE.jl:331\n",
      "┌ Info: Inputs: \n",
      "└ @ StructuralIdentifiability /Users/stefanvayl/.julia/packages/StructuralIdentifiability/egNv7/src/ODE.jl:332\n",
      "┌ Info: Outputs: y3, y1, y2\n",
      "└ @ StructuralIdentifiability /Users/stefanvayl/.julia/packages/StructuralIdentifiability/egNv7/src/ODE.jl:333\n"
     ]
    },
    {
     "data": {
      "text/plain": [
       "x1'(t) = x1(t)\n",
       "x3'(t) = -x2(t)*x3(t)*x1(t) + x3(t)\n",
       "x2'(t) = -x2(t)^2 + x1(t)\n",
       "y1(t) = x1(t)\n",
       "y3(t) = x3(t)\n",
       "y2(t) = x2(t) + x1(t)\n"
      ]
     },
     "metadata": {},
     "output_type": "display_data"
    }
   ],
   "source": [
    "ode = @ODEmodel(\n",
    "    x1'(t) = x1(t) ,\n",
    "    x2'(t) = x1(t) - x2(t) * x2(t) ,\n",
    "    x3'(t) = x3(t) - x1(t) * x2(t) * x3(t) ,\n",
    "    y1(t) = x1(t),\n",
    "    y2(t) = x1(t) + x2(t),\n",
    "    y3(t) = x3(t)\n",
    ")\n"
   ]
  },
  {
   "cell_type": "code",
   "execution_count": 45,
   "id": "4d42b06b",
   "metadata": {},
   "outputs": [
    {
     "name": "stdout",
     "output_type": "stream",
     "text": [
      "dx1/dt = x1; dx2/dt = -x3*x2*x1 + x2; dx3/dt = -x3^2 + x1; y1 = x1; y2 = x2; y3 = x3 + x1\n"
     ]
    },
    {
     "data": {
      "text/plain": [
       "String"
      ]
     },
     "metadata": {},
     "output_type": "display_data"
    }
   ],
   "source": [
    "# take the first 3 states\n",
    "\n",
    "x = print_for_COMBOS(ode)\n",
    "println(x)\n",
    "y = typeof(x)\n"
   ]
  },
  {
   "cell_type": "code",
   "execution_count": 62,
   "id": "fedcdf7a",
   "metadata": {},
   "outputs": [],
   "source": [
    "\n"
   ]
  },
  {
   "cell_type": "code",
   "execution_count": 136,
   "id": "30e8d473",
   "metadata": {},
   "outputs": [
    {
     "name": "stdout",
     "output_type": "stream",
     "text": [
      "Dict{Any, Any}(\"y3\" => fmpq_mpoly[x3], \"x1\" => fmpq_mpoly[x1], \"y1\" => fmpq_mpoly[x1], \"x2\" => fmpq_mpoly[x2, x1], \"y2\" => fmpq_mpoly[x2, x1], \"x3\" => fmpq_mpoly[x2, x3, x1])\n",
      "Vector{fmpq_mpoly}\n",
      "\n",
      "\n",
      "Any[x1, -x2*x3*x1 + x3, -x2^2 + x1, x1, x3, x2 + x1]\n"
     ]
    },
    {
     "data": {
      "text/plain": [
       "Dict{Any, Any} with 6 entries:\n",
       "  \"y3\" => fmpq_mpoly[x3]\n",
       "  \"x1\" => fmpq_mpoly[x1]\n",
       "  \"y1\" => fmpq_mpoly[x1]\n",
       "  \"x2\" => fmpq_mpoly[x2, x1]\n",
       "  \"y2\" => fmpq_mpoly[x2, x1]\n",
       "  \"x3\" => fmpq_mpoly[x2, x3, x1]"
      ]
     },
     "metadata": {},
     "output_type": "display_data"
    }
   ],
   "source": [
    "\n",
    "function construct_graph(ode)\n",
    "    \n",
    "\n",
    "    graph = Dict()\n",
    "    eqs = []\n",
    "    for (x,f) in ode.x_equations\n",
    "        push!(eqs, f)\n",
    "\n",
    "        \n",
    "        graph[\"$(x)\"] = f\n",
    "\n",
    "\n",
    "    end\n",
    "    for (y,f) in ode.y_equations\n",
    "        push!(eqs, f)\n",
    "        graph[\"$(y)\"] = f\n",
    "    end\n",
    "\n",
    "    for (k,v) in graph\n",
    "        graph[k] = vars(v)\n",
    "        \n",
    "    end\n",
    "    println(graph)\n",
    "    println(typeof(graph[\"x2\"]))\n",
    "    println(\"\\n\")\n",
    "    println(eqs)\n",
    "\n",
    "    return graph\n",
    "end\n",
    "\n",
    "construct_graph(ode)"
   ]
  },
  {
   "cell_type": "code",
   "execution_count": 146,
   "id": "539dc377",
   "metadata": {},
   "outputs": [
    {
     "name": "stdout",
     "output_type": "stream",
     "text": [
      "Dict{Any, Any}(\"y3\" => fmpq_mpoly[x3], \"x1\" => fmpq_mpoly[x1], \"y1\" => fmpq_mpoly[x1], \"x2\" => fmpq_mpoly[x2, x1], \"y2\" => fmpq_mpoly[x2, x1], \"x3\" => fmpq_mpoly[x2, x3, x1])\n",
      "Vector{fmpq_mpoly}\n",
      "\n",
      "\n",
      "Any[x1, -x2*x3*x1 + x3, -x2^2 + x1, x1, x3, x2 + x1]\n"
     ]
    },
    {
     "ename": "MethodError",
     "evalue": "MethodError: no method matching +(::Set{Any}, ::Vector{String})\nClosest candidates are:\n  +(::Any, ::Any, !Matched::Any, !Matched::Any...) at operators.jl:591\n  +(!Matched::Union{InitialValues.NonspecificInitialValue, InitialValues.SpecificInitialValue{typeof(+)}}, ::Any) at ~/.julia/packages/InitialValues/OWP8V/src/InitialValues.jl:154\n  +(!Matched::VectorizationBase.CartesianVIndex, ::Any) at ~/.julia/packages/VectorizationBase/wy5gX/src/cartesianvindex.jl:67\n  ...",
     "output_type": "error",
     "traceback": [
      "MethodError: no method matching +(::Set{Any}, ::Vector{String})\n",
      "Closest candidates are:\n",
      "  +(::Any, ::Any, !Matched::Any, !Matched::Any...) at operators.jl:591\n",
      "  +(!Matched::Union{InitialValues.NonspecificInitialValue, InitialValues.SpecificInitialValue{typeof(+)}}, ::Any) at ~/.julia/packages/InitialValues/OWP8V/src/InitialValues.jl:154\n",
      "  +(!Matched::VectorizationBase.CartesianVIndex, ::Any) at ~/.julia/packages/VectorizationBase/wy5gX/src/cartesianvindex.jl:67\n",
      "  ...\n",
      "\n",
      "Stacktrace:\n",
      " [1] dfs(graph::Dict{Any, Any}, start::String, visited::Set{Any})\n",
      "   @ Main ~/Desktop/Ecole_Polytechnique/CSE303/CSE303/project.ipynb:6\n",
      " [2] top-level scope\n",
      "   @ ~/Desktop/Ecole_Polytechnique/CSE303/CSE303/project.ipynb:15"
     ]
    }
   ],
   "source": [
    "# define Array of variables\n",
    "\n",
    "\n",
    "\n",
    "function dfs(graph, start, visited = [])\n",
    "    visited = visited + [start]\n",
    "    for node in graph[start]\n",
    "        if node ∉ visited\n",
    "            visited = dfs(graph, node, visited)\n",
    "        end\n",
    "    end\n",
    "    return visited\n",
    "end\n",
    "\n",
    "dfs(construct_graph(ode), \"x1\", Set())"
   ]
  },
  {
   "cell_type": "code",
   "execution_count": null,
   "id": "21559ee7",
   "metadata": {},
   "outputs": [],
   "source": [
    "def dfs(graph, start, path=[]):\n",
    "    path = path + [start]\n",
    "    for node in graph[start]:\n",
    "        if node not in path:\n",
    "            path = dfs(graph, node, path)\n",
    "    return path"
   ]
  }
 ],
 "metadata": {
  "kernelspec": {
   "display_name": "Julia 1.8.2",
   "language": "julia",
   "name": "julia-1.8"
  },
  "language_info": {
   "file_extension": ".jl",
   "mimetype": "application/julia",
   "name": "julia",
   "version": "1.8.2"
  },
  "vscode": {
   "interpreter": {
    "hash": "e52d8eff0fa1ae6ac7e3dc17c2d12b7827902139a408e360ebcd41464f1e620d"
   }
  }
 },
 "nbformat": 4,
 "nbformat_minor": 5
}
